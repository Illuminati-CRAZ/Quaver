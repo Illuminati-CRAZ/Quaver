{
 "cells": [
  {
   "cell_type": "code",
   "execution_count": 1,
   "metadata": {
    "dotnet_interactive": {
     "language": "csharp"
    },
    "polyglot_notebook": {
     "kernelName": "csharp"
    },
    "vscode": {
     "languageId": "polyglot-notebook"
    }
   },
   "outputs": [],
   "source": [
    "#r \"C:\\Users\\Taboo\\github\\Quaver_dev\\Quaver\\bin\\Release\\net6.0\\Quaver.API.dll\"\n",
    "#r \"C:\\Users\\Taboo\\github\\Quaver_dev\\Quaver\\bin\\Release\\net6.0\\YamlDotNet.dll\"\n",
    "#r \"C:\\Users\\Taboo\\github\\Quaver_dev\\Quaver\\bin\\Release\\net6.0\\MonoGame.Extended.dll\"\n"
   ]
  },
  {
   "cell_type": "code",
   "execution_count": 2,
   "metadata": {
    "dotnet_interactive": {
     "language": "csharp"
    },
    "polyglot_notebook": {
     "kernelName": "csharp"
    },
    "vscode": {
     "languageId": "polyglot-notebook"
    }
   },
   "outputs": [],
   "source": [
    "using Quaver.API.Maps;"
   ]
  },
  {
   "cell_type": "code",
   "execution_count": 3,
   "metadata": {
    "dotnet_interactive": {
     "language": "csharp"
    },
    "polyglot_notebook": {
     "kernelName": "csharp"
    },
    "vscode": {
     "languageId": "polyglot-notebook"
    }
   },
   "outputs": [],
   "source": [
    "Qua map = Qua.Parse(\"\"\"C:\\Program Files (x86)\\Steam\\steamapps\\common\\Quaver\\Songs\\LeaF_-_Aleph-0_extended_ver._-_373424 - 772\\LeaF - Aleph-0 (extended ver.) (Evening) [Boundless].qua\"\"\");"
   ]
  },
  {
   "cell_type": "code",
   "execution_count": 4,
   "metadata": {
    "dotnet_interactive": {
     "language": "csharp"
    },
    "polyglot_notebook": {
     "kernelName": "csharp"
    },
    "vscode": {
     "languageId": "polyglot-notebook"
    }
   },
   "outputs": [
    {
     "data": {
      "text/html": [
       "<details open=\"open\" class=\"dni-treeview\"><summary><span class=\"dni-code-hint\"><code>Quaver.API.Maps.Structures.TimingPointInfo</code></span></summary><div><table><thead><tr></tr></thead><tbody><tr><td>StartTime</td><td><div class=\"dni-plaintext\"><pre>262140</pre></div></td></tr><tr><td>Bpm</td><td><div class=\"dni-plaintext\"><pre>1E-05</pre></div></td></tr><tr><td>Signature</td><td><span>999</span></td></tr><tr><td>Hidden</td><td><div class=\"dni-plaintext\"><pre>False</pre></div></td></tr><tr><td>IsEditableInLuaScript</td><td><div class=\"dni-plaintext\"><pre>False</pre></div></td></tr><tr><td>MillisecondsPerBeat</td><td><div class=\"dni-plaintext\"><pre>6E+09</pre></div></td></tr></tbody></table></div></details><style>\r\n",
       ".dni-code-hint {\r\n",
       "    font-style: italic;\r\n",
       "    overflow: hidden;\r\n",
       "    white-space: nowrap;\r\n",
       "}\r\n",
       ".dni-treeview {\r\n",
       "    white-space: nowrap;\r\n",
       "}\r\n",
       ".dni-treeview td {\r\n",
       "    vertical-align: top;\r\n",
       "    text-align: start;\r\n",
       "}\r\n",
       "details.dni-treeview {\r\n",
       "    padding-left: 1em;\r\n",
       "}\r\n",
       "table td {\r\n",
       "    text-align: start;\r\n",
       "}\r\n",
       "table tr { \r\n",
       "    vertical-align: top; \r\n",
       "    margin: 0em 0px;\r\n",
       "}\r\n",
       "table tr td pre \r\n",
       "{ \r\n",
       "    vertical-align: top !important; \r\n",
       "    margin: 0em 0px !important;\r\n",
       "} \r\n",
       "table th {\r\n",
       "    text-align: start;\r\n",
       "}\r\n",
       "</style>"
      ]
     },
     "metadata": {},
     "output_type": "display_data"
    },
    {
     "data": {
      "text/html": [
       "<details open=\"open\" class=\"dni-treeview\"><summary><span class=\"dni-code-hint\"><code>Quaver.API.Maps.Structures.TimingPointInfo</code></span></summary><div><table><thead><tr></tr></thead><tbody><tr><td>StartTime</td><td><div class=\"dni-plaintext\"><pre>262164</pre></div></td></tr><tr><td>Bpm</td><td><div class=\"dni-plaintext\"><pre>8280000</pre></div></td></tr><tr><td>Signature</td><td><span>1</span></td></tr><tr><td>Hidden</td><td><div class=\"dni-plaintext\"><pre>False</pre></div></td></tr><tr><td>IsEditableInLuaScript</td><td><div class=\"dni-plaintext\"><pre>False</pre></div></td></tr><tr><td>MillisecondsPerBeat</td><td><div class=\"dni-plaintext\"><pre>0.007246377</pre></div></td></tr></tbody></table></div></details><style>\r\n",
       ".dni-code-hint {\r\n",
       "    font-style: italic;\r\n",
       "    overflow: hidden;\r\n",
       "    white-space: nowrap;\r\n",
       "}\r\n",
       ".dni-treeview {\r\n",
       "    white-space: nowrap;\r\n",
       "}\r\n",
       ".dni-treeview td {\r\n",
       "    vertical-align: top;\r\n",
       "    text-align: start;\r\n",
       "}\r\n",
       "details.dni-treeview {\r\n",
       "    padding-left: 1em;\r\n",
       "}\r\n",
       "table td {\r\n",
       "    text-align: start;\r\n",
       "}\r\n",
       "table tr { \r\n",
       "    vertical-align: top; \r\n",
       "    margin: 0em 0px;\r\n",
       "}\r\n",
       "table tr td pre \r\n",
       "{ \r\n",
       "    vertical-align: top !important; \r\n",
       "    margin: 0em 0px !important;\r\n",
       "} \r\n",
       "table th {\r\n",
       "    text-align: start;\r\n",
       "}\r\n",
       "</style>"
      ]
     },
     "metadata": {},
     "output_type": "display_data"
    },
    {
     "data": {
      "text/html": [
       "<details open=\"open\" class=\"dni-treeview\"><summary><span class=\"dni-code-hint\"><code>Quaver.API.Maps.Structures.TimingPointInfo</code></span></summary><div><table><thead><tr></tr></thead><tbody><tr><td>StartTime</td><td><div class=\"dni-plaintext\"><pre>262166</pre></div></td></tr><tr><td>Bpm</td><td><div class=\"dni-plaintext\"><pre>1E-05</pre></div></td></tr><tr><td>Signature</td><td><span>999</span></td></tr><tr><td>Hidden</td><td><div class=\"dni-plaintext\"><pre>False</pre></div></td></tr><tr><td>IsEditableInLuaScript</td><td><div class=\"dni-plaintext\"><pre>False</pre></div></td></tr><tr><td>MillisecondsPerBeat</td><td><div class=\"dni-plaintext\"><pre>6E+09</pre></div></td></tr></tbody></table></div></details><style>\r\n",
       ".dni-code-hint {\r\n",
       "    font-style: italic;\r\n",
       "    overflow: hidden;\r\n",
       "    white-space: nowrap;\r\n",
       "}\r\n",
       ".dni-treeview {\r\n",
       "    white-space: nowrap;\r\n",
       "}\r\n",
       ".dni-treeview td {\r\n",
       "    vertical-align: top;\r\n",
       "    text-align: start;\r\n",
       "}\r\n",
       "details.dni-treeview {\r\n",
       "    padding-left: 1em;\r\n",
       "}\r\n",
       "table td {\r\n",
       "    text-align: start;\r\n",
       "}\r\n",
       "table tr { \r\n",
       "    vertical-align: top; \r\n",
       "    margin: 0em 0px;\r\n",
       "}\r\n",
       "table tr td pre \r\n",
       "{ \r\n",
       "    vertical-align: top !important; \r\n",
       "    margin: 0em 0px !important;\r\n",
       "} \r\n",
       "table th {\r\n",
       "    text-align: start;\r\n",
       "}\r\n",
       "</style>"
      ]
     },
     "metadata": {},
     "output_type": "display_data"
    }
   ],
   "source": [
    "map.TimingPoints[19510].Display();\n",
    "map.TimingPoints[19511].Display();\n",
    "map.TimingPoints[19512].Display();"
   ]
  },
  {
   "cell_type": "code",
   "execution_count": 5,
   "metadata": {
    "dotnet_interactive": {
     "language": "csharp"
    },
    "polyglot_notebook": {
     "kernelName": "csharp"
    },
    "vscode": {
     "languageId": "polyglot-notebook"
    }
   },
   "outputs": [
    {
     "data": {
      "text/html": [
       "<div class=\"dni-plaintext\"><pre>0.006</pre></div><style>\r\n",
       ".dni-code-hint {\r\n",
       "    font-style: italic;\r\n",
       "    overflow: hidden;\r\n",
       "    white-space: nowrap;\r\n",
       "}\r\n",
       ".dni-treeview {\r\n",
       "    white-space: nowrap;\r\n",
       "}\r\n",
       ".dni-treeview td {\r\n",
       "    vertical-align: top;\r\n",
       "    text-align: start;\r\n",
       "}\r\n",
       "details.dni-treeview {\r\n",
       "    padding-left: 1em;\r\n",
       "}\r\n",
       "table td {\r\n",
       "    text-align: start;\r\n",
       "}\r\n",
       "table tr { \r\n",
       "    vertical-align: top; \r\n",
       "    margin: 0em 0px;\r\n",
       "}\r\n",
       "table tr td pre \r\n",
       "{ \r\n",
       "    vertical-align: top !important; \r\n",
       "    margin: 0em 0px !important;\r\n",
       "} \r\n",
       "table th {\r\n",
       "    text-align: start;\r\n",
       "}\r\n",
       "</style>"
      ]
     },
     "metadata": {},
     "output_type": "display_data"
    }
   ],
   "source": [
    "60_000 / 10_000_000f"
   ]
  },
  {
   "cell_type": "code",
   "execution_count": 7,
   "metadata": {
    "dotnet_interactive": {
     "language": "csharp"
    },
    "polyglot_notebook": {
     "kernelName": "csharp"
    },
    "vscode": {
     "languageId": "polyglot-notebook"
    }
   },
   "outputs": [],
   "source": [
    "map.NormalizeSVs();"
   ]
  },
  {
   "cell_type": "code",
   "execution_count": 8,
   "metadata": {
    "dotnet_interactive": {
     "language": "csharp"
    },
    "polyglot_notebook": {
     "kernelName": "csharp"
    },
    "vscode": {
     "languageId": "polyglot-notebook"
    }
   },
   "outputs": [],
   "source": [
    "// map.Save(\"\"\"C:\\Program Files (x86)\\Steam\\steamapps\\common\\Quaver\\Songs\\LeaF_-_Aleph-0_extended_ver._-_373424 - 772\\Normalized.qua\"\"\");\n",
    "map.Save(\"\"\"C:\\Program Files (x86)\\Steam\\steamapps\\common\\Quaver\\Songs\\LeaF_-_Aleph-0_extended_ver._-_373424 - 772\\Normalized_double.qua\"\"\");"
   ]
  }
 ],
 "metadata": {
  "language_info": {
   "name": "python"
  },
  "orig_nbformat": 4
 },
 "nbformat": 4,
 "nbformat_minor": 2
}
